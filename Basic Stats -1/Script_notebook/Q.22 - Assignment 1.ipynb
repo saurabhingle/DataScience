{
 "cells": [
  {
   "cell_type": "code",
   "execution_count": 3,
   "id": "52a420f3",
   "metadata": {},
   "outputs": [],
   "source": [
    "from scipy import stats\n",
    "from scipy.stats import norm"
   ]
  },
  {
   "cell_type": "markdown",
   "id": "bc59b5db",
   "metadata": {},
   "source": [
    "### Q.22 Calculate the Z scores of 90% confidence interval,94% confidence interval, 60% confidence interval\n"
   ]
  },
  {
   "cell_type": "markdown",
   "id": "73b1bdbf",
   "metadata": {},
   "source": [
    "a) Z-score of 90% confidence interval"
   ]
  },
  {
   "cell_type": "code",
   "execution_count": 5,
   "id": "415ae9da",
   "metadata": {},
   "outputs": [
    {
     "data": {
      "text/plain": [
       "1.6448536269514722"
      ]
     },
     "execution_count": 5,
     "metadata": {},
     "output_type": "execute_result"
    }
   ],
   "source": [
    "stats.norm.ppf(0.95)"
   ]
  },
  {
   "cell_type": "markdown",
   "id": "d6c32dee",
   "metadata": {},
   "source": [
    "b) Z-score of 94% confidence interval"
   ]
  },
  {
   "cell_type": "code",
   "execution_count": 6,
   "id": "fec145bc",
   "metadata": {},
   "outputs": [
    {
     "data": {
      "text/plain": [
       "1.8807936081512509"
      ]
     },
     "execution_count": 6,
     "metadata": {},
     "output_type": "execute_result"
    }
   ],
   "source": [
    "stats.norm.ppf(0.97)"
   ]
  },
  {
   "cell_type": "markdown",
   "id": "2d987805",
   "metadata": {},
   "source": [
    "c) Z-score of 60% confidence interval"
   ]
  },
  {
   "cell_type": "code",
   "execution_count": 8,
   "id": "d31a6b2c",
   "metadata": {},
   "outputs": [
    {
     "data": {
      "text/plain": [
       "0.8416212335729143"
      ]
     },
     "execution_count": 8,
     "metadata": {},
     "output_type": "execute_result"
    }
   ],
   "source": [
    "stats.norm.ppf(0.8)"
   ]
  }
 ],
 "metadata": {
  "kernelspec": {
   "display_name": "Python 3 (ipykernel)",
   "language": "python",
   "name": "python3"
  },
  "language_info": {
   "codemirror_mode": {
    "name": "ipython",
    "version": 3
   },
   "file_extension": ".py",
   "mimetype": "text/x-python",
   "name": "python",
   "nbconvert_exporter": "python",
   "pygments_lexer": "ipython3",
   "version": "3.9.13"
  }
 },
 "nbformat": 4,
 "nbformat_minor": 5
}
