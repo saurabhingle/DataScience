{
 "cells": [
  {
   "cell_type": "code",
   "execution_count": 1,
   "id": "cdd1c1ac",
   "metadata": {},
   "outputs": [],
   "source": [
    "from scipy import stats\n",
    "from scipy.stats import norm"
   ]
  },
  {
   "cell_type": "markdown",
   "id": "50a33778",
   "metadata": {},
   "source": [
    "### Q.23 Calculate the t scores of 95% confidence interval, 96% confidence interval, 99% confidence interval for sample size of 25"
   ]
  },
  {
   "cell_type": "markdown",
   "id": "6f2cfc50",
   "metadata": {},
   "source": [
    "a) t scores of 95% confidence interval for sample size of 25"
   ]
  },
  {
   "cell_type": "code",
   "execution_count": 2,
   "id": "448a7cf9",
   "metadata": {},
   "outputs": [
    {
     "data": {
      "text/plain": [
       "1.7108820799094275"
      ]
     },
     "execution_count": 2,
     "metadata": {},
     "output_type": "execute_result"
    }
   ],
   "source": [
    "stats.t.ppf(0.95,24)"
   ]
  },
  {
   "cell_type": "markdown",
   "id": "5b4a65c3",
   "metadata": {},
   "source": [
    "b) t scores of 96% confidence interval for sample size of 25"
   ]
  },
  {
   "cell_type": "code",
   "execution_count": 3,
   "id": "eed2b484",
   "metadata": {},
   "outputs": [
    {
     "data": {
      "text/plain": [
       "1.8280511719596342"
      ]
     },
     "execution_count": 3,
     "metadata": {},
     "output_type": "execute_result"
    }
   ],
   "source": [
    "stats.t.ppf(0.96,24)"
   ]
  },
  {
   "cell_type": "markdown",
   "id": "f0dfcea1",
   "metadata": {},
   "source": [
    "c) t scores of 99% confidence interval for sample size of 25"
   ]
  },
  {
   "cell_type": "code",
   "execution_count": 4,
   "id": "33df42e7",
   "metadata": {},
   "outputs": [
    {
     "data": {
      "text/plain": [
       "2.4921594731575762"
      ]
     },
     "execution_count": 4,
     "metadata": {},
     "output_type": "execute_result"
    }
   ],
   "source": [
    "stats.t.ppf(0.99,24)"
   ]
  }
 ],
 "metadata": {
  "kernelspec": {
   "display_name": "Python 3 (ipykernel)",
   "language": "python",
   "name": "python3"
  },
  "language_info": {
   "codemirror_mode": {
    "name": "ipython",
    "version": 3
   },
   "file_extension": ".py",
   "mimetype": "text/x-python",
   "name": "python",
   "nbconvert_exporter": "python",
   "pygments_lexer": "ipython3",
   "version": "3.9.13"
  }
 },
 "nbformat": 4,
 "nbformat_minor": 5
}
