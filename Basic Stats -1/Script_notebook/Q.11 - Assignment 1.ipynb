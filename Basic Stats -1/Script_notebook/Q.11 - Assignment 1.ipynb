{
 "cells": [
  {
   "cell_type": "code",
   "execution_count": 2,
   "id": "9d8191a5",
   "metadata": {},
   "outputs": [],
   "source": [
    "from scipy import stats\n",
    "from scipy.stats import norm"
   ]
  },
  {
   "cell_type": "markdown",
   "id": "751e132b",
   "metadata": {},
   "source": [
    "#### Q11)  Suppose we want to estimate the average weight of an adult male in    Mexico. We draw a random sample of 2,000 men from a population of 3,000,000 men and weigh them. We find that the average person in our sample weighs 200 pounds, and the standard deviation of the sample is 30 pounds. Calculate 94%,98%,96% confidence interval?"
   ]
  },
  {
   "cell_type": "code",
   "execution_count": null,
   "id": "34de4cd6",
   "metadata": {},
   "outputs": [],
   "source": [
    "N = 3000000\n",
    "n = 2000\n",
    "x = 200\n",
    "s = 30"
   ]
  },
  {
   "cell_type": "markdown",
   "id": "4d0e4e7c",
   "metadata": {},
   "source": [
    "### For C.I. 94%"
   ]
  },
  {
   "cell_type": "code",
   "execution_count": 3,
   "id": "c1990233",
   "metadata": {},
   "outputs": [
    {
     "data": {
      "text/plain": [
       "(198.738325292158, 201.261674707842)"
      ]
     },
     "execution_count": 3,
     "metadata": {},
     "output_type": "execute_result"
    }
   ],
   "source": [
    "stats.norm.interval(0.94,200,30/(2000**0.5))"
   ]
  },
  {
   "cell_type": "markdown",
   "id": "04690f09",
   "metadata": {},
   "source": [
    "### For C.I. 98%"
   ]
  },
  {
   "cell_type": "code",
   "execution_count": 4,
   "id": "3a190afc",
   "metadata": {},
   "outputs": [
    {
     "data": {
      "text/plain": [
       "(198.43943840429978, 201.56056159570022)"
      ]
     },
     "execution_count": 4,
     "metadata": {},
     "output_type": "execute_result"
    }
   ],
   "source": [
    "stats.norm.interval(0.98,200,30/(2000**0.5))"
   ]
  },
  {
   "cell_type": "markdown",
   "id": "e1e292fc",
   "metadata": {},
   "source": [
    "### For C.I. 96%"
   ]
  },
  {
   "cell_type": "code",
   "execution_count": 5,
   "id": "4aaff14f",
   "metadata": {},
   "outputs": [
    {
     "data": {
      "text/plain": [
       "(198.62230334813333, 201.37769665186667)"
      ]
     },
     "execution_count": 5,
     "metadata": {},
     "output_type": "execute_result"
    }
   ],
   "source": [
    "stats.norm.interval(0.96,200,30/(2000**0.5))"
   ]
  }
 ],
 "metadata": {
  "kernelspec": {
   "display_name": "Python 3 (ipykernel)",
   "language": "python",
   "name": "python3"
  },
  "language_info": {
   "codemirror_mode": {
    "name": "ipython",
    "version": 3
   },
   "file_extension": ".py",
   "mimetype": "text/x-python",
   "name": "python",
   "nbconvert_exporter": "python",
   "pygments_lexer": "ipython3",
   "version": "3.9.13"
  }
 },
 "nbformat": 4,
 "nbformat_minor": 5
}
