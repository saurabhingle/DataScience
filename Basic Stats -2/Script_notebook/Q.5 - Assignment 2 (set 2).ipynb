{
 "cells": [
  {
   "cell_type": "code",
   "execution_count": 18,
   "id": "d409640f",
   "metadata": {},
   "outputs": [],
   "source": [
    "import pandas as pd\n",
    "from scipy import stats\n",
    "from scipy.stats import norm"
   ]
  },
  {
   "cell_type": "markdown",
   "id": "64ef0a3f",
   "metadata": {},
   "source": [
    "### Q5.   Consider a company that has two different divisions. The annual profits from the two divisions are independent and have distributions Profit1 ~ N(5, 32) and Profit2 ~ N(7, 42) respectively. Both the profits are in million Dollars. Answer the following questions about the total profit of the company in Rupees. Assume that 1 Dollar = 45 Rs.\n",
    "A.\tSpecify a Rupee range (centered on the mean) such that it contains 95% probability for the annual profit of the company.\n",
    "\n",
    "B.\tSpecify the 5th percentile of profit (in Rupees) for the company\n",
    "\n",
    "C.\tWhich of the two divisions has a larger probability of making a loss in a given year?\n"
   ]
  },
  {
   "cell_type": "code",
   "execution_count": 10,
   "id": "d13c18ee",
   "metadata": {},
   "outputs": [
    {
     "name": "stdout",
     "output_type": "stream",
     "text": [
      "Mean profit is Rs. 540 Million\n"
     ]
    }
   ],
   "source": [
    "mean = 5+7\n",
    "print('Mean profit is Rs.', mean*45, 'Million')"
   ]
  },
  {
   "cell_type": "code",
   "execution_count": 11,
   "id": "9cbd38b9",
   "metadata": {},
   "outputs": [
    {
     "name": "stdout",
     "output_type": "stream",
     "text": [
      "Standerd Deviation is Rs. 225.0 Million\n"
     ]
    }
   ],
   "source": [
    "SD = np.sqrt((9)+(16))\n",
    "print('Standerd Deviation is Rs.', SD*45, 'Million')"
   ]
  },
  {
   "cell_type": "code",
   "execution_count": 15,
   "id": "5cce5f61",
   "metadata": {},
   "outputs": [
    {
     "name": "stdout",
     "output_type": "stream",
     "text": [
      "Range is Rs. (99.00810347848784, 980.9918965215122) in Millions\n"
     ]
    }
   ],
   "source": [
    "print('Range is Rs.', (stats.norm.interval(0.95,540,225)), 'in Millions')"
   ]
  },
  {
   "cell_type": "code",
   "execution_count": 17,
   "id": "0c2f2609",
   "metadata": {},
   "outputs": [
    {
     "name": "stdout",
     "output_type": "stream",
     "text": [
      "5th peercentile of profit (in million Rupees) is 202.0\n"
     ]
    }
   ],
   "source": [
    "X = 540+(-1.5)*(225)\n",
    "print('5th peercentile of profit (in million Rupees) is', np.round(X))"
   ]
  },
  {
   "cell_type": "code",
   "execution_count": 16,
   "id": "aafc2e3e",
   "metadata": {},
   "outputs": [
    {
     "data": {
      "text/plain": [
       "0.0477903522728147"
      ]
     },
     "execution_count": 16,
     "metadata": {},
     "output_type": "execute_result"
    }
   ],
   "source": [
    "stats.norm.cdf(0,5,3)"
   ]
  },
  {
   "cell_type": "code",
   "execution_count": 19,
   "id": "bba7fa98",
   "metadata": {},
   "outputs": [
    {
     "data": {
      "text/plain": [
       "0.040059156863817086"
      ]
     },
     "execution_count": 19,
     "metadata": {},
     "output_type": "execute_result"
    }
   ],
   "source": [
    "stats.norm.cdf(0,7,4)"
   ]
  },
  {
   "cell_type": "markdown",
   "id": "6f5f43d4",
   "metadata": {},
   "source": [
    "A) Range is Rs (99.00810347848784, 980.9918965215122) in Millions\n",
    "\n",
    "B) To compute 5 th percentile ,we use the formula X = μ + Zσ; wherein from z table, 5 th percntile = -1.5 X= 540+(-1.5) * (225) Therefore, 5th peercentile of profit is 202.0 million Rupees\n",
    "\n",
    "C)Probability of Division 1 making a loss P(X<0) 0.047 Probability of Division 2 making a loss P(X<0) 0.040"
   ]
  }
 ],
 "metadata": {
  "kernelspec": {
   "display_name": "Python 3 (ipykernel)",
   "language": "python",
   "name": "python3"
  },
  "language_info": {
   "codemirror_mode": {
    "name": "ipython",
    "version": 3
   },
   "file_extension": ".py",
   "mimetype": "text/x-python",
   "name": "python",
   "nbconvert_exporter": "python",
   "pygments_lexer": "ipython3",
   "version": "3.9.13"
  }
 },
 "nbformat": 4,
 "nbformat_minor": 5
}
